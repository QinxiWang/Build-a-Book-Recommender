{
 "cells": [
  {
   "cell_type": "markdown",
   "metadata": {},
   "source": [
    "## Building a Book Recommender using the Bookcrossing$^{[1]}$ dataset\n",
    "\n",
    "### Part 1: Setup\n",
    "\n",
    "First we grab the datasets as csv and load into the work space. "
   ]
  },
  {
   "cell_type": "code",
   "execution_count": 662,
   "metadata": {
    "collapsed": true
   },
   "outputs": [],
   "source": [
    "import pandas as pd\n",
    "import numpy as np\n",
    "import matplotlib as mpl\n",
    "import matplotlib.pyplot as plt\n",
    "import matplotlib.ticker as ticker\n",
    "import math\n",
    "from sklearn.feature_extraction.text import CountVectorizer, TfidfTransformer\n",
    "from wordcloud import WordCloud, STOPWORDS\n",
    "from IPython.display import Image\n",
    "from IPython.display import display\n",
    "\n",
    "ratings = pd.read_csv('./BX-CSV-Dump/BX-Book-Ratings.csv', sep=\";\", error_bad_lines=False, warn_bad_lines=False, engine='python')\n",
    "users = pd.read_csv('./BX-CSV-Dump/BX-Users.csv', sep=\";\", error_bad_lines=False, warn_bad_lines=False, engine='python')\n",
    "books = pd.read_csv('./BX-CSV-Dump/BX-Books.csv', sep=\";\", error_bad_lines=False, warn_bad_lines=False, engine='python')\n",
    "\n",
    "ratings.columns = [\"userID\",\"ISBN\",\"BookRating\"]\n",
    "users.columns= [\"userID\",\"Location\",\"Age\"]\n",
    "books.columns= [\"ISBN\",\"BookTitle\",\"BookAuthor\",\"YearOfPublication\",\"Publisher\",\"ImageURLS\",\"ImageURLM\",\"ImageURLL\"]\n"
   ]
  },
  {
   "cell_type": "markdown",
   "metadata": {
    "collapsed": true
   },
   "source": [
    "There are three datasets, in total contains 278177 users, 1149766 ratings of both explicit(scale of 1 to 10) and implicit (score of 0), and 270491 books.\n",
    "\n",
    "The ratings data contains three colmuns: userID, ISBN, BookRating. \n",
    "The books data contains eight columns, what we interested the most and will be using later are: ISBN code of the book, Book Title,Year of publication, and the imageURL's that we are later going to that to load the book page.\n",
    "The users data contains three columns: userID, Location and Age. "
   ]
  },
  {
   "cell_type": "code",
   "execution_count": 669,
   "metadata": {},
   "outputs": [
    {
     "data": {
      "text/html": [
       "<div>\n",
       "<style>\n",
       "    .dataframe thead tr:only-child th {\n",
       "        text-align: right;\n",
       "    }\n",
       "\n",
       "    .dataframe thead th {\n",
       "        text-align: left;\n",
       "    }\n",
       "\n",
       "    .dataframe tbody tr th {\n",
       "        vertical-align: top;\n",
       "    }\n",
       "</style>\n",
       "<table border=\"1\" class=\"dataframe\">\n",
       "  <thead>\n",
       "    <tr style=\"text-align: right;\">\n",
       "      <th></th>\n",
       "      <th>userID</th>\n",
       "      <th>ISBN</th>\n",
       "      <th>BookRating</th>\n",
       "    </tr>\n",
       "  </thead>\n",
       "  <tbody>\n",
       "    <tr>\n",
       "      <th>0</th>\n",
       "      <td>276725</td>\n",
       "      <td>034545104X</td>\n",
       "      <td>0</td>\n",
       "    </tr>\n",
       "    <tr>\n",
       "      <th>1</th>\n",
       "      <td>276726</td>\n",
       "      <td>0155061224</td>\n",
       "      <td>5</td>\n",
       "    </tr>\n",
       "    <tr>\n",
       "      <th>2</th>\n",
       "      <td>276727</td>\n",
       "      <td>0446520802</td>\n",
       "      <td>0</td>\n",
       "    </tr>\n",
       "  </tbody>\n",
       "</table>\n",
       "</div>"
      ],
      "text/plain": [
       "   userID        ISBN  BookRating\n",
       "0  276725  034545104X           0\n",
       "1  276726  0155061224           5\n",
       "2  276727  0446520802           0"
      ]
     },
     "execution_count": 669,
     "metadata": {},
     "output_type": "execute_result"
    }
   ],
   "source": [
    "ratings.head()[:3]"
   ]
  },
  {
   "cell_type": "code",
   "execution_count": 670,
   "metadata": {},
   "outputs": [
    {
     "data": {
      "text/html": [
       "<div>\n",
       "<style>\n",
       "    .dataframe thead tr:only-child th {\n",
       "        text-align: right;\n",
       "    }\n",
       "\n",
       "    .dataframe thead th {\n",
       "        text-align: left;\n",
       "    }\n",
       "\n",
       "    .dataframe tbody tr th {\n",
       "        vertical-align: top;\n",
       "    }\n",
       "</style>\n",
       "<table border=\"1\" class=\"dataframe\">\n",
       "  <thead>\n",
       "    <tr style=\"text-align: right;\">\n",
       "      <th></th>\n",
       "      <th>ISBN</th>\n",
       "      <th>BookTitle</th>\n",
       "      <th>BookAuthor</th>\n",
       "      <th>YearOfPublication</th>\n",
       "      <th>Publisher</th>\n",
       "      <th>ImageURLS</th>\n",
       "      <th>ImageURLM</th>\n",
       "      <th>ImageURLL</th>\n",
       "    </tr>\n",
       "  </thead>\n",
       "  <tbody>\n",
       "    <tr>\n",
       "      <th>0</th>\n",
       "      <td>0195153448</td>\n",
       "      <td>Classical Mythology</td>\n",
       "      <td>Mark P. O. Morford</td>\n",
       "      <td>2002</td>\n",
       "      <td>Oxford University Press</td>\n",
       "      <td>http://images.amazon.com/images/P/0195153448.0...</td>\n",
       "      <td>http://images.amazon.com/images/P/0195153448.0...</td>\n",
       "      <td>http://images.amazon.com/images/P/0195153448.0...</td>\n",
       "    </tr>\n",
       "    <tr>\n",
       "      <th>1</th>\n",
       "      <td>0002005018</td>\n",
       "      <td>Clara Callan</td>\n",
       "      <td>Richard Bruce Wright</td>\n",
       "      <td>2001</td>\n",
       "      <td>HarperFlamingo Canada</td>\n",
       "      <td>http://images.amazon.com/images/P/0002005018.0...</td>\n",
       "      <td>http://images.amazon.com/images/P/0002005018.0...</td>\n",
       "      <td>http://images.amazon.com/images/P/0002005018.0...</td>\n",
       "    </tr>\n",
       "    <tr>\n",
       "      <th>2</th>\n",
       "      <td>0060973129</td>\n",
       "      <td>Decision in Normandy</td>\n",
       "      <td>Carlo D'Este</td>\n",
       "      <td>1991</td>\n",
       "      <td>HarperPerennial</td>\n",
       "      <td>http://images.amazon.com/images/P/0060973129.0...</td>\n",
       "      <td>http://images.amazon.com/images/P/0060973129.0...</td>\n",
       "      <td>http://images.amazon.com/images/P/0060973129.0...</td>\n",
       "    </tr>\n",
       "  </tbody>\n",
       "</table>\n",
       "</div>"
      ],
      "text/plain": [
       "         ISBN             BookTitle            BookAuthor  YearOfPublication  \\\n",
       "0  0195153448   Classical Mythology    Mark P. O. Morford               2002   \n",
       "1  0002005018          Clara Callan  Richard Bruce Wright               2001   \n",
       "2  0060973129  Decision in Normandy          Carlo D'Este               1991   \n",
       "\n",
       "                 Publisher                                          ImageURLS  \\\n",
       "0  Oxford University Press  http://images.amazon.com/images/P/0195153448.0...   \n",
       "1    HarperFlamingo Canada  http://images.amazon.com/images/P/0002005018.0...   \n",
       "2          HarperPerennial  http://images.amazon.com/images/P/0060973129.0...   \n",
       "\n",
       "                                           ImageURLM  \\\n",
       "0  http://images.amazon.com/images/P/0195153448.0...   \n",
       "1  http://images.amazon.com/images/P/0002005018.0...   \n",
       "2  http://images.amazon.com/images/P/0060973129.0...   \n",
       "\n",
       "                                           ImageURLL  \n",
       "0  http://images.amazon.com/images/P/0195153448.0...  \n",
       "1  http://images.amazon.com/images/P/0002005018.0...  \n",
       "2  http://images.amazon.com/images/P/0060973129.0...  "
      ]
     },
     "execution_count": 670,
     "metadata": {},
     "output_type": "execute_result"
    }
   ],
   "source": [
    "books.head()[:3]"
   ]
  },
  {
   "cell_type": "code",
   "execution_count": 671,
   "metadata": {},
   "outputs": [
    {
     "data": {
      "text/html": [
       "<div>\n",
       "<style>\n",
       "    .dataframe thead tr:only-child th {\n",
       "        text-align: right;\n",
       "    }\n",
       "\n",
       "    .dataframe thead th {\n",
       "        text-align: left;\n",
       "    }\n",
       "\n",
       "    .dataframe tbody tr th {\n",
       "        vertical-align: top;\n",
       "    }\n",
       "</style>\n",
       "<table border=\"1\" class=\"dataframe\">\n",
       "  <thead>\n",
       "    <tr style=\"text-align: right;\">\n",
       "      <th></th>\n",
       "      <th>userID</th>\n",
       "      <th>Location</th>\n",
       "      <th>Age</th>\n",
       "    </tr>\n",
       "  </thead>\n",
       "  <tbody>\n",
       "    <tr>\n",
       "      <th>0</th>\n",
       "      <td>1</td>\n",
       "      <td>nyc, new york, usa</td>\n",
       "      <td>NaN</td>\n",
       "    </tr>\n",
       "    <tr>\n",
       "      <th>1</th>\n",
       "      <td>2</td>\n",
       "      <td>stockton, california, usa</td>\n",
       "      <td>18.0</td>\n",
       "    </tr>\n",
       "    <tr>\n",
       "      <th>2</th>\n",
       "      <td>3</td>\n",
       "      <td>moscow, yukon territory, russia</td>\n",
       "      <td>NaN</td>\n",
       "    </tr>\n",
       "  </tbody>\n",
       "</table>\n",
       "</div>"
      ],
      "text/plain": [
       "   userID                         Location   Age\n",
       "0       1               nyc, new york, usa   NaN\n",
       "1       2        stockton, california, usa  18.0\n",
       "2       3  moscow, yukon territory, russia   NaN"
      ]
     },
     "execution_count": 671,
     "metadata": {},
     "output_type": "execute_result"
    }
   ],
   "source": [
    "users.head()[:3]"
   ]
  },
  {
   "cell_type": "markdown",
   "metadata": {},
   "source": [
    "We would like to also the ISBN code at this point, since by sampling the books data there is some messy encodings.\n",
    "\n",
    "Since in order to look up one specific book, we need to translate from the ISBN to the book page by:\n",
    "\n",
    "'https://www.amazon.com/dp/' + ISBN + '/'\n",
    "\n",
    "Else if we only interested in the book name, we can use the ISBN to get the books.BookTitle."
   ]
  },
  {
   "cell_type": "code",
   "execution_count": 103,
   "metadata": {
    "collapsed": true
   },
   "outputs": [],
   "source": [
    "ratings.ISBN=ratings.ISBN.str.replace(r'[^\\w\\d]+', '')\n",
    "books.ISBN=books.ISBN.str.replace(r'[^\\w\\d]+', '')"
   ]
  },
  {
   "cell_type": "markdown",
   "metadata": {},
   "source": [
    "### Part 2: Basic Descriptive analysis\n",
    "\n",
    "Here we will visualize some basic information about the dataset and describe some interesting patterns.\n",
    "\n",
    "Some questions we may ask are:\n",
    "    \n",
    "    What is the distribution of ratings per user?\n",
    "    What is the distribution of ratings per item?\n",
    "    How \"sparse\" is the ratings matrix? (no viz needed)\n",
    "    What is the overall mean rating? (no viz needed)\n",
    "    How many times is each rating value used?\n",
    "\n",
    "For the section, since there are many implicit ratings that would not bring much insight to the overall explicit score distribution, we can only look for the explicit ratings from the users. Thus we drop the '0' ratings here and leave only scores from 1 to 10."
   ]
  },
  {
   "cell_type": "code",
   "execution_count": 673,
   "metadata": {},
   "outputs": [
    {
     "data": {
      "text/html": [
       "<div>\n",
       "<style>\n",
       "    .dataframe thead tr:only-child th {\n",
       "        text-align: right;\n",
       "    }\n",
       "\n",
       "    .dataframe thead th {\n",
       "        text-align: left;\n",
       "    }\n",
       "\n",
       "    .dataframe tbody tr th {\n",
       "        vertical-align: top;\n",
       "    }\n",
       "</style>\n",
       "<table border=\"1\" class=\"dataframe\">\n",
       "  <thead>\n",
       "    <tr style=\"text-align: right;\">\n",
       "      <th></th>\n",
       "      <th>userID</th>\n",
       "      <th>ISBN</th>\n",
       "      <th>BookRating</th>\n",
       "    </tr>\n",
       "  </thead>\n",
       "  <tbody>\n",
       "    <tr>\n",
       "      <th>500257</th>\n",
       "      <td>120828</td>\n",
       "      <td>0345412923</td>\n",
       "      <td>8</td>\n",
       "    </tr>\n",
       "    <tr>\n",
       "      <th>593624</th>\n",
       "      <td>143175</td>\n",
       "      <td>0970760094</td>\n",
       "      <td>7</td>\n",
       "    </tr>\n",
       "    <tr>\n",
       "      <th>273635</th>\n",
       "      <td>63717</td>\n",
       "      <td>0006374921</td>\n",
       "      <td>10</td>\n",
       "    </tr>\n",
       "  </tbody>\n",
       "</table>\n",
       "</div>"
      ],
      "text/plain": [
       "        userID        ISBN  BookRating\n",
       "500257  120828  0345412923           8\n",
       "593624  143175  0970760094           7\n",
       "273635   63717  0006374921          10"
      ]
     },
     "execution_count": 673,
     "metadata": {},
     "output_type": "execute_result"
    }
   ],
   "source": [
    "explicit_rating = ratings[ratings.BookRating !=0]\n",
    "explicit_rating.sample(3)"
   ]
  },
  {
   "cell_type": "markdown",
   "metadata": {},
   "source": [
    "Let us first look at what is the distribution of ratings per user?\n",
    "\n",
    "We group our data by the userID and see how many times a user rate a score on average. From the graph we can see that the user rates 8 the most often, follow by 7, 9, 6 and 10. Scores below 5 are uncommon."
   ]
  },
  {
   "cell_type": "code",
   "execution_count": 698,
   "metadata": {},
   "outputs": [
    {
     "data": {
      "image/png": "[encoded data removed]",
      "text/plain": [
       "<matplotlib.figure.Figure at 0x1a2968d4a8>"
      ]
     },
     "metadata": {},
     "output_type": "display_data"
    }
   ],
   "source": [
    "explicit_rating.groupby('userID').BookRating.mean().round().value_counts().plot(kind='bar', title='The Distribution of Ratings per User').set_ylabel('count')\n",
    "plt.show()"
   ]
  },
  {
   "cell_type": "markdown",
   "metadata": {},
   "source": [
    "Then we can see how is the distribution of ratings per book. For this task, we group by book's unique ISBN code instead. From the graph below, we notice still, that for the explicit scores most books receive 8, and follow by 7, 10 and 9. There are about the same number of 5 and 6, and again scores below 5 are quite rare."
   ]
  },
  {
   "cell_type": "code",
   "execution_count": 699,
   "metadata": {},
   "outputs": [
    {
     "data": {
      "image/png": "[encoded data removed]",
      "text/plain": [
       "<matplotlib.figure.Figure at 0x1a2970db00>"
      ]
     },
     "metadata": {},
     "output_type": "display_data"
    }
   ],
   "source": [
    "explicit_rating.groupby('ISBN').BookRating.mean().round().value_counts().plot(kind='bar', title='The Distribution of Ratings per Book').set_ylabel('count')\n",
    "plt.show()"
   ]
  },
  {
   "cell_type": "markdown",
   "metadata": {},
   "source": [
    "To calculate the sparsity, since there are no 'na' items in our data, instead we look at how many implicit ratings are there compare to the overall ratings size. And we found that the sparsity is about 62%."
   ]
  },
  {
   "cell_type": "code",
   "execution_count": 700,
   "metadata": {},
   "outputs": [
    {
     "data": {
      "text/plain": [
       "0.6228284711845715"
      ]
     },
     "execution_count": 700,
     "metadata": {},
     "output_type": "execute_result"
    }
   ],
   "source": [
    "(len(ratings.BookRating) - len(explicit_rating.BookRating))/ len(ratings.BookRating) "
   ]
  },
  {
   "cell_type": "markdown",
   "metadata": {},
   "source": [
    "For the overall mean rating, if we only look at the frequence of each explicit rating is about 7.6. Per book the overall average is 7.49, and per user is 7.46. \n",
    "\n",
    "If we also take the implicit ratings into consideration, the overall mean is 2.86, with per book's mean of 2.94, and per user's mean as 4.39."
   ]
  },
  {
   "cell_type": "code",
   "execution_count": 709,
   "metadata": {},
   "outputs": [
    {
     "name": "stdout",
     "output_type": "stream",
     "text": [
      "7.601066736767829\n",
      "7.492544215784861\n",
      "7.460596166947312\n",
      "2.8669059617348225\n",
      "2.940524747096566\n"
     ]
    },
    {
     "data": {
      "text/plain": [
       "4.393449474704106"
      ]
     },
     "execution_count": 709,
     "metadata": {},
     "output_type": "execute_result"
    }
   ],
   "source": [
    "print(explicit_rating.BookRating.mean())\n",
    "print(explicit_rating.groupby('ISBN')['BookRating'].mean().round().mean())\n",
    "print(explicit_rating.groupby('userID')['BookRating'].mean().round().mean())\n",
    "\n",
    "print(ratings.BookRating.mean())\n",
    "print(ratings.groupby('ISBN')['BookRating'].mean().round().mean())\n",
    "ratings.groupby('userID')['BookRating'].mean().round().mean()"
   ]
  },
  {
   "cell_type": "markdown",
   "metadata": {},
   "source": [
    "For how many times is each rating value used, we simply do a frequency count of each rating scores. Due to the sparsity of the data, we see that there are above 70000 implicit ratings. Rating score of 8 is above 10,000, following by 10, 7, and 9 slightly below that."
   ]
  },
  {
   "cell_type": "code",
   "execution_count": 85,
   "metadata": {},
   "outputs": [
    {
     "data": {
      "image/png": "[encoded data removed]",
      "text/plain": [
       "<matplotlib.figure.Figure at 0x1a3ffb5c18>"
      ]
     },
     "metadata": {},
     "output_type": "display_data"
    }
   ],
   "source": [
    "ratings.BookRating.value_counts().plot(kind='bar', title='The Count of Each Ratings Value Used').set_ylabel('count')\n",
    "plt.show()"
   ]
  },
  {
   "cell_type": "markdown",
   "metadata": {},
   "source": [
    "### Part 3: Finding outliers\n",
    "\n",
    "First we want to show the five most often rated books in the raw data. We will create a new data frame to store the ratings and the counts. The we will show the top five most rated books' cover below, in the order of the number of ratings they have."
   ]
  },
  {
   "cell_type": "code",
   "execution_count": 155,
   "metadata": {
    "collapsed": true
   },
   "outputs": [],
   "source": [
    "rating_count=pd.DataFrame(ratings.groupby('ISBN',as_index=False)['BookRating'].count())\n",
    "avg_rating=pd.DataFrame(ratings.groupby('ISBN',as_index=False)['BookRating'].mean())\n",
    "avg_rating_count=avg_rating.merge(rating_count, on='ISBN',how=\"inner\")\n",
    "avg_rating_count.columns=[\"ISBN\",\"avg_rating\",\"ratings_count\"]"
   ]
  },
  {
   "cell_type": "code",
   "execution_count": 720,
   "metadata": {},
   "outputs": [
    {
     "data": {
      "text/html": [
       "<img src=\"http://images.amazon.com/images/P/0971880107.01.LZZZZZZZ.jpg\"/>"
      ],
      "text/plain": [
       "<IPython.core.display.Image object>"
      ]
     },
     "metadata": {},
     "output_type": "display_data"
    },
    {
     "data": {
      "text/html": [
       "<img src=\"http://images.amazon.com/images/P/0316666343.01.LZZZZZZZ.jpg\"/>"
      ],
      "text/plain": [
       "<IPython.core.display.Image object>"
      ]
     },
     "metadata": {},
     "output_type": "display_data"
    },
    {
     "data": {
      "text/html": [
       "<img src=\"http://images.amazon.com/images/P/0312195516.01.LZZZZZZZ.jpg\"/>"
      ],
      "text/plain": [
       "<IPython.core.display.Image object>"
      ]
     },
     "metadata": {},
     "output_type": "display_data"
    },
    {
     "data": {
      "text/html": [
       "<img src=\"http://images.amazon.com/images/P/0385504209.01.LZZZZZZZ.jpg\"/>"
      ],
      "text/plain": [
       "<IPython.core.display.Image object>"
      ]
     },
     "metadata": {},
     "output_type": "display_data"
    },
    {
     "data": {
      "text/html": [
       "<img src=\"http://images.amazon.com/images/P/0060928336.01.LZZZZZZZ.jpg\"/>"
      ],
      "text/plain": [
       "<IPython.core.display.Image object>"
      ]
     },
     "metadata": {},
     "output_type": "display_data"
    }
   ],
   "source": [
    "avg_rating_count=avg_rating_count.sort_values('ratings_count', ascending=False)\n",
    "most_rated = books.loc[books.ISBN.isin(list(avg_rating_count.head()['ISBN']))]\n",
    "#most_rated.BookTitle\n",
    "covers=[Image(url=most_rated.iloc[k].ImageURLL) for k in range(5)]\n",
    "display(*covers)"
   ]
  },
  {
   "cell_type": "markdown",
   "metadata": {},
   "source": [
    "We are also interested in the five most highly rated books, and five books with the lowest ratings. In order to not overly favor books with only few ratings, I will use a \"robust\" average methodology that we add some number of average rating to every book item.\n",
    "\n",
    "We first calculate the 'robust mean', which the overall mean ratings group by books, then we decide the 'robust rating number' to be 50. Ao we are adding 50 mean ratings to every book in our dataset.\n"
   ]
  },
  {
   "cell_type": "code",
   "execution_count": 721,
   "metadata": {},
   "outputs": [
    {
     "data": {
      "text/html": [
       "<div>\n",
       "<style>\n",
       "    .dataframe thead tr:only-child th {\n",
       "        text-align: right;\n",
       "    }\n",
       "\n",
       "    .dataframe thead th {\n",
       "        text-align: left;\n",
       "    }\n",
       "\n",
       "    .dataframe tbody tr th {\n",
       "        vertical-align: top;\n",
       "    }\n",
       "</style>\n",
       "<table border=\"1\" class=\"dataframe\">\n",
       "  <thead>\n",
       "    <tr style=\"text-align: right;\">\n",
       "      <th></th>\n",
       "      <th>ISBN</th>\n",
       "      <th>avg_rating</th>\n",
       "      <th>ratings_count</th>\n",
       "      <th>robsut</th>\n",
       "      <th>robsut_rating</th>\n",
       "    </tr>\n",
       "  </thead>\n",
       "  <tbody>\n",
       "    <tr>\n",
       "      <th>247146</th>\n",
       "      <td>0971880107</td>\n",
       "      <td>1.019584</td>\n",
       "      <td>2502</td>\n",
       "      <td>2698.026237</td>\n",
       "      <td>1.057220</td>\n",
       "    </tr>\n",
       "    <tr>\n",
       "      <th>47132</th>\n",
       "      <td>0316666343</td>\n",
       "      <td>4.468726</td>\n",
       "      <td>1295</td>\n",
       "      <td>5934.026237</td>\n",
       "      <td>4.411915</td>\n",
       "    </tr>\n",
       "    <tr>\n",
       "      <th>83115</th>\n",
       "      <td>0385504209</td>\n",
       "      <td>4.651584</td>\n",
       "      <td>884</td>\n",
       "      <td>4259.026237</td>\n",
       "      <td>4.559985</td>\n",
       "    </tr>\n",
       "  </tbody>\n",
       "</table>\n",
       "</div>"
      ],
      "text/plain": [
       "              ISBN  avg_rating  ratings_count       robsut  robsut_rating\n",
       "247146  0971880107    1.019584           2502  2698.026237       1.057220\n",
       "47132   0316666343    4.468726           1295  5934.026237       4.411915\n",
       "83115   0385504209    4.651584            884  4259.026237       4.559985"
      ]
     },
     "execution_count": 721,
     "metadata": {},
     "output_type": "execute_result"
    }
   ],
   "source": [
    "robust_mean = ratings.groupby('ISBN').BookRating.mean().round().mean()\n",
    "robust_rating_num = 50\n",
    "avg_rating_count['robsut'] = avg_rating_count['avg_rating'] * avg_rating_count['ratings_count'] + (robust_mean * robust_rating_num)\n",
    "avg_rating_count['robsut_rating'] = avg_rating_count['robsut'] / (avg_rating_count['ratings_count'] + robust_rating_num)\n",
    "\n",
    "avg_rating_count.head()[:3]"
   ]
  },
  {
   "cell_type": "markdown",
   "metadata": {},
   "source": [
    "And now we can sort by the robust mean ratings, and find the five most highly rated books:"
   ]
  },
  {
   "cell_type": "code",
   "execution_count": 723,
   "metadata": {},
   "outputs": [
    {
     "data": {
      "text/html": [
       "<img src=\"http://images.amazon.com/images/P/0590353403.01.LZZZZZZZ.jpg\"/>"
      ],
      "text/plain": [
       "<IPython.core.display.Image object>"
      ]
     },
     "metadata": {},
     "output_type": "display_data"
    },
    {
     "data": {
      "text/html": [
       "<img src=\"http://images.amazon.com/images/P/1844262553.01.LZZZZZZZ.jpg\"/>"
      ],
      "text/plain": [
       "<IPython.core.display.Image object>"
      ]
     },
     "metadata": {},
     "output_type": "display_data"
    },
    {
     "data": {
      "text/html": [
       "<img src=\"http://images.amazon.com/images/P/0439136350.01.LZZZZZZZ.jpg\"/>"
      ],
      "text/plain": [
       "<IPython.core.display.Image object>"
      ]
     },
     "metadata": {},
     "output_type": "display_data"
    },
    {
     "data": {
      "text/html": [
       "<img src=\"http://images.amazon.com/images/P/0439139597.01.LZZZZZZZ.jpg\"/>"
      ],
      "text/plain": [
       "<IPython.core.display.Image object>"
      ]
     },
     "metadata": {},
     "output_type": "display_data"
    },
    {
     "data": {
      "text/html": [
       "<img src=\"http://images.amazon.com/images/P/0439064864.01.LZZZZZZZ.jpg\"/>"
      ],
      "text/plain": [
       "<IPython.core.display.Image object>"
      ]
     },
     "metadata": {},
     "output_type": "display_data"
    }
   ],
   "source": [
    "robust_rating = avg_rating_count.sort_values('robsut_rating', ascending=False)\n",
    "robust_most_rated = books.loc[books.ISBN.isin(list(robust_rating.head()['ISBN']))]\n",
    "#robust_most_rated.BookTitle\n",
    "covers=[Image(url=robust_most_rated.iloc[k].ImageURLL) for k in range(5)]\n",
    "display(*covers)"
   ]
  },
  {
   "cell_type": "markdown",
   "metadata": {},
   "source": [
    "And five least favored books by our readers:"
   ]
  },
  {
   "cell_type": "code",
   "execution_count": 724,
   "metadata": {},
   "outputs": [
    {
     "data": {
      "text/html": [
       "<img src=\"http://images.amazon.com/images/P/0971880107.01.LZZZZZZZ.jpg\"/>"
      ],
      "text/plain": [
       "<IPython.core.display.Image object>"
      ]
     },
     "metadata": {},
     "output_type": "display_data"
    },
    {
     "data": {
      "text/html": [
       "<img src=\"http://images.amazon.com/images/P/0446365505.01.LZZZZZZZ.jpg\"/>"
      ],
      "text/plain": [
       "<IPython.core.display.Image object>"
      ]
     },
     "metadata": {},
     "output_type": "display_data"
    },
    {
     "data": {
      "text/html": [
       "<img src=\"http://images.amazon.com/images/P/0345345738.01.LZZZZZZZ.jpg\"/>"
      ],
      "text/plain": [
       "<IPython.core.display.Image object>"
      ]
     },
     "metadata": {},
     "output_type": "display_data"
    },
    {
     "data": {
      "text/html": [
       "<img src=\"http://images.amazon.com/images/P/0446356832.01.LZZZZZZZ.jpg\"/>"
      ],
      "text/plain": [
       "<IPython.core.display.Image object>"
      ]
     },
     "metadata": {},
     "output_type": "display_data"
    },
    {
     "data": {
      "text/html": [
       "<img src=\"http://images.amazon.com/images/P/1401088945.01.LZZZZZZZ.jpg\"/>"
      ],
      "text/plain": [
       "<IPython.core.display.Image object>"
      ]
     },
     "metadata": {},
     "output_type": "display_data"
    }
   ],
   "source": [
    "robust_rating_lo = avg_rating_count.sort_values('robsut_rating', ascending=True)\n",
    "robust_least_rated = books.loc[books.ISBN.isin(list(robust_rating_lo.head()['ISBN']))]\n",
    "#robust_least_rated.BookTitle\n",
    "covers=[Image(url=robust_least_rated.iloc[k].ImageURLL) for k in range(5)]\n",
    "display(*covers)"
   ]
  },
  {
   "cell_type": "markdown",
   "metadata": {},
   "source": [
    "### Part 4: Rating overlap\n",
    "\n",
    "\n",
    "We are then interested in a reasonably controversial popular book A. To pick that, we can use the standard deviation, since the higher the sd, the more 'varied' are there among your data. In our case, a controversial popular book might be that it receives many high ratings, but also many low ratings.\n",
    "\n",
    "To do that, we first want to calculate the standard deviation of the list of ratings for each book. So we group by the ISBN code and apply the 'std' function built in numpy to calculate the sd of ratings per book. Then we find the maxium sd, which is 4.5. We found that there are 14 books with the highest sd(probably due to the rounding precision)."
   ]
  },
  {
   "cell_type": "code",
   "execution_count": 728,
   "metadata": {},
   "outputs": [
    {
     "name": "stderr",
     "output_type": "stream",
     "text": [
      "/Users/qinxi/anaconda3/lib/python3.6/site-packages/ipykernel_launcher.py:1: SettingWithCopyWarning: \n",
      "A value is trying to be set on a copy of a slice from a DataFrame.\n",
      "Try using .loc[row_indexer,col_indexer] = value instead\n",
      "\n",
      "See the caveats in the documentation: http://pandas.pydata.org/pandas-docs/stable/indexing.html#indexing-view-versus-copy\n",
      "  \"\"\"Entry point for launching an IPython kernel.\n"
     ]
    },
    {
     "data": {
      "text/plain": [
       "(array([ 3325,  3549,  4654,  6141, 10139, 14159, 14572, 14883, 18465,\n",
       "        18728, 25616, 26893, 33655, 53600]),)"
      ]
     },
     "execution_count": 728,
     "metadata": {},
     "output_type": "execute_result"
    }
   ],
   "source": [
    "explicit_rating['sd'] = explicit_rating.groupby('ISBN', as_index=False)['BookRating'].apply(np.std)\n",
    "s = np.max(explicit_rating.sd)\n",
    "highest_sd_idx = (np.where(np.array(explicit_rating.sd) == np.array(np.max(explicit_rating.sd))))\n",
    "highest_sd_idx\n",
    "\n",
    "# print(highest_sd_idx)\n",
    "# for i in highest_sd_idx[0]:\n",
    "#     print(explicit_rating[i:i+1])"
   ]
  },
  {
   "cell_type": "markdown",
   "metadata": {},
   "source": [
    "Then we choose the book with the most ratings, which has the ISBN of 22585. We find that particular book is:"
   ]
  },
  {
   "cell_type": "code",
   "execution_count": 323,
   "metadata": {},
   "outputs": [
    {
     "data": {
      "text/html": [
       "<img src=\"http://images.amazon.com/images/P/0671693816.01.LZZZZZZZ.jpg\"/>"
      ],
      "text/plain": [
       "<IPython.core.display.Image object>"
      ]
     },
     "metadata": {},
     "output_type": "display_data"
    }
   ],
   "source": [
    "contro_id = 22585\n",
    "book = books.loc[books.ISBN.isin(explicit_rating[contro_id:contro_id+1]['ISBN'])]\n",
    "covers=[Image(url=book.iloc[0].ImageURLL)]\n",
    "display(*covers)"
   ]
  },
  {
   "cell_type": "markdown",
   "metadata": {},
   "source": [
    "Then we want to calculate the 20 most commonly corated books to the controverisal book we just identified above, Wifey. To do this, we want to find the books with the highest number of users who have rated both the book, and Wifey. \n",
    "\n",
    "First we start by getting all the users who rated Wifey. Then we gab all the books that these users have ever rated. Then we will count how many users under each of these books also rated Wifey. And we will sort by the overlap of the users and give our top 20 most corated book list. Which are:\n",
    "\n",
    "(I will not display the books like above due to the length of the list, but feel free to uncomment the code and check them out.)"
   ]
  },
  {
   "cell_type": "code",
   "execution_count": 785,
   "metadata": {},
   "outputs": [
    {
     "data": {
      "text/plain": [
       "['The Lovely Bones: A Novel',\n",
       " 'Summer Sisters',\n",
       " 'Divine Secrets of the Ya-Ya Sisterhood: A Novel',\n",
       " 'Wild Animus',\n",
       " 'Smart Women',\n",
       " 'A Time to Kill',\n",
       " \"Where the Heart Is (Oprah's Book Club (Paperback))\",\n",
       " 'Interview with the Vampire',\n",
       " 'The Notebook',\n",
       " 'The Red Tent (Bestselling Backlist)',\n",
       " 'House of Sand and Fog',\n",
       " 'The Firm',\n",
       " 'The Horse Whisperer',\n",
       " 'The Da Vinci Code',\n",
       " \"The Pilot's Wife : A Novel\",\n",
       " 'Confessions of a Shopaholic (Summer Display Opportunity)',\n",
       " 'Snow Falling on Cedars',\n",
       " \"She's Come Undone (Oprah's Book Club (Paperback))\",\n",
       " 'The Chamber',\n",
       " 'The Partner']"
      ]
     },
     "execution_count": 785,
     "metadata": {},
     "output_type": "execute_result"
    }
   ],
   "source": [
    "contro_rater = ratings.loc[ratings.ISBN.isin(explicit_rating[22585:22585+1]['ISBN'])]\n",
    "len(set(contro_rater.userID)) #number of users who rated that book\n",
    "rated_contro_all = ratings.loc[ratings.userID.isin(contro_rater.userID)]\n",
    "corated = pd.DataFrame(rated_contro_all.groupby('ISBN', as_index=False)['userID'].count())\n",
    "corated.columns=[\"ISBN\",\"IDcounts\"]\n",
    "\n",
    "top_20_corated = corated.sort_values('IDcounts', ascending=False)[1:22] #the OTHER 20 top corated books, not including itself\n",
    "corated_list = top_20_corated.merge(books, on='ISBN', how=\"inner\")\n",
    "\n",
    "list(corated_list.BookTitle)\n",
    "# covers=[Image(url=corated_list.iloc[k].ImageURLL) for k in range(20)]\n",
    "# display(*covers)"
   ]
  },
  {
   "cell_type": "markdown",
   "metadata": {},
   "source": [
    "Looking at these books, I kind of see some similarity in the genre. It's not surprising that some of the books in the corated list share the same author. Some of the topics in the corated list focused on women, romance/sexuality and psychology. Some books appear because they are already the most rated books, and a great amount of users read them and rated them. \n",
    "\n",
    "\n",
    "### Part 5: Similarity \n",
    "\n",
    "#### Calculate correlations\n",
    "\n",
    "From the list above, we want choose a pair (A,B) items that we think will be positively correlated, and another pair (A,C) that will be less positively correlated. \n",
    "\n",
    "A is our identified controversial book, titled 'Wife', which is a book about housewife, affairs, and open marriages according to wikipedia. For B I will go with the book 'Summer Sisters' on the least, as it's from the same author, and ranked high in the corated list. For book C I will choose 'The Chamber' on the list, which is a legal thriller book, and does not seem to share much similarity with our book A.\n",
    "\n",
    "\n",
    "    A = Wifey  ISBN   0671693816\n",
    "    B = Summer Sisters (same author)  ISBN   0440226430\n",
    "    C = The Chamber (legal thriller) ISBN   0440220602\n",
    "\n",
    "\n",
    "\n",
    "We grab all the ratings for the users from these books, and convert them into numpy arrays. Then we will call the cosine similarity to compare our A and B book, and A and C."
   ]
  },
  {
   "cell_type": "code",
   "execution_count": 216,
   "metadata": {
    "collapsed": true
   },
   "outputs": [],
   "source": [
    "from math import sqrt\n",
    "\n",
    "def cosine(X, Y): \n",
    "    return np.sum(X * Y) / (sqrt(np.sum(X ** 2)) *sqrt(np.sum(Y ** 2)))"
   ]
  },
  {
   "cell_type": "code",
   "execution_count": 494,
   "metadata": {
    "collapsed": true
   },
   "outputs": [],
   "source": [
    "user_id_count = top_20_corated.merge(contro_rater, on='ISBN', how='outer')\n",
    "ratingsA = np.array(contro_rater.BookRating[:100])\n",
    "ratingsB = np.array(rated_contro_all[rated_contro_all['ISBN']=='0440226430'].BookRating)\n",
    "ratingsC = np.array(rated_contro_all[rated_contro_all['ISBN']=='0440220602'].BookRating)"
   ]
  },
  {
   "cell_type": "markdown",
   "metadata": {},
   "source": [
    "The correlation between Wifey(A) and Summer Sisters(B) is about 0.40."
   ]
  },
  {
   "cell_type": "code",
   "execution_count": 734,
   "metadata": {},
   "outputs": [
    {
     "data": {
      "text/plain": [
       "0.39877787874957887"
      ]
     },
     "execution_count": 734,
     "metadata": {},
     "output_type": "execute_result"
    }
   ],
   "source": [
    "cosine(ratingsA[:len(ratingsB)], ratingsB)"
   ]
  },
  {
   "cell_type": "markdown",
   "metadata": {},
   "source": [
    "The correlation between Wifey(A) and The Chamber(C) is about 0.20."
   ]
  },
  {
   "cell_type": "code",
   "execution_count": 735,
   "metadata": {},
   "outputs": [
    {
     "data": {
      "text/plain": [
       "0.20434952251735539"
      ]
     },
     "execution_count": 735,
     "metadata": {},
     "output_type": "execute_result"
    }
   ],
   "source": [
    "cosine(ratingsA[:len(ratingsC)], ratingsC)"
   ]
  },
  {
   "cell_type": "markdown",
   "metadata": {},
   "source": [
    "In terms of the time complexity of our method, we have \n",
    "    u : the number of users, \n",
    "    m: the number of items, \n",
    "    n: the total number of ratings,  \n",
    "    b: the number of users who have rated both A and B. \n",
    "\n",
    "Since we are mostly doing the operation on the array of user ratings, and math operations like sum or sqrt should be like O(1) cheap in numpy on each element. So the overall time complexity of our method would be O(b) for each pair comparison, where the bottle neck actually happens at searching for the book with the specific ISBN and select the corresponding user, which is a linear look up process.   \n",
    "   \n",
    "\n",
    "\n",
    "\n",
    "\n",
    "#### Simultaneously calculate correlations with A and all other items:\n",
    "Now that you've calculated correlations for pairs of items, consider how you can generalize the work you're doing in to simultaneously tally the three terms for all items (paired with A).\n",
    "You should only calculate correlations for items with some minimum threshold of coratings. Pick a threshold that seems reasonable to you.\n",
    "\n",
    "Now if we want to generalize the process of calculating the correlation between other books paired with A. We set a corating threshold to be 20, which means that we only want to compare books that share at least 20 same user who rated both the book and A with A. \n",
    "\n",
    "We defined a function called cal_correlation that takes corating_threshold as the only input. It will grab the list of ratings of the 20 users who have rated both the book and A. Then for each of the books that match with our cateria, we call cosine function to compare the pair of such pairs, and append the correlation score in the resul list."
   ]
  },
  {
   "cell_type": "code",
   "execution_count": 787,
   "metadata": {},
   "outputs": [
    {
     "name": "stdout",
     "output_type": "stream",
     "text": [
      "[0.65098490524609709, 0.39877787874957887, 0.37039376575783245, 0.02694722863621233, 0.28223915343829709, 0.19692710868428806, 0.45348362022763206, 0.46686781774321273, 0.46879156841105896, 0.30799107607869869, 0.49823008294130861, 0.41677393914581412, 0.13277408402242333, 0.41634758911455644, 0.33278387594945497, 0.40054039115236911, 0.35686533793801223, 0.29025756607024578, 0.50795074062293011, 0.20434952251735539, 0.23322710065907223, 0.12721562869323952, 0.29304148232478328, 0.49935452594132262, 0.14950771831724541]\n"
     ]
    }
   ],
   "source": [
    "top_corated = corated.sort_values('IDcounts', ascending=False)[1:]\n",
    "corating_threshold = 20\n",
    "\n",
    "def cal_correlation(corating_threshold): \n",
    "    corr_res = []\n",
    "    isbn_list = top_corated[top_corated['IDcounts'] >= corating_threshold].ISBN\n",
    "    for isbn in isbn_list:\n",
    "        ratings_i = np.array(rated_contro_all[rated_contro_all['ISBN'] == isbn].BookRating)\n",
    "        corr_res.append(cosine(ratingsA[:len(ratings_i)], ratings_i))\n",
    "    return corr_res\n",
    "    \n",
    "print(cal_correlation(corating_threshold))"
   ]
  },
  {
   "cell_type": "markdown",
   "metadata": {},
   "source": [
    "I would say the tricky about this step of generalization is actually the choice of co-rater threshold. I tried 15 in the first place, but the resulting data was too large for the jupyter to process since I intend to store each of the correlation in a list. After I changed the threshold to 20 the method works smoothly. \n",
    "\n",
    "The top 10 items are:\n",
    "    1. The Lovely Bones: A Novel, with 0.65 correlation.\n",
    "    2. Summer Sisters, with 0.40 correlation\n",
    "    3. Divine Secrets of the Ya-Ya Sisterhood: A Novel,  with 0.37 correlation\n",
    "    4. Wild Animus,  with 0.03 correlation\n",
    "    5. Smart Women,  with 0.28 correlation\n",
    "    6. A Time to Kill,  with 0.20 correlation\n",
    "    7. Where the Heart Is (Oprah's Book Club,  with 0.45 correlation\n",
    "    8. Interview with the Vampire,  with 0.31 correlation\n",
    "    9. The Notebook,  with 0.47 correlation\n",
    "    10. The Red Tent (Bestselling Backlist),  with 0.47 correlation\n",
    "\n",
    "\n",
    "In the first I thought it is quite surpring that we see book with 0.03 correlation on the list, but then I realize that book is the most rated book across our dataset thus it's not too surprised to see there are many users who rated Wifey also rated the popular book. It's also interesting that some books by the same author on the list, such as Summer Sisters and Smart Women, actually have a lower correlation to the book then books like The Notebook, The Red Tent, or even Interview with the Vampire. (Maybe it is somehow similar, I never read these books).\n",
    "\n",
    "In terms of the time complexity of our method, we have: \n",
    "    \n",
    "    u: the number of users, \n",
    "    m: the number of items, \n",
    "    n: the total number of ratings,  \n",
    "    b: the number of users who have rated both A and B. \n",
    "\n",
    "Since we already discussed that the time complextity for calculating a single pair is O(b), an and here we are looping through m books who has b ratings each, the complexity should now be O(mb). \n"
   ]
  },
  {
   "cell_type": "markdown",
   "metadata": {},
   "source": [
    "### Part 6: Build our recommender for the book!"
   ]
  },
  {
   "cell_type": "code",
   "execution_count": 521,
   "metadata": {
    "collapsed": true
   },
   "outputs": [],
   "source": [
    "from sklearn.neighbors import NearestNeighbors\n",
    "import scipy"
   ]
  },
  {
   "cell_type": "markdown",
   "metadata": {},
   "source": [
    "After calculating the similarity, I am curious about how would that apply to be used for actual book-to-book recommendation. Inspired by the KNN classifier mentioned in class, I wonder what if we use the cosine similarity to find the nearest neighbors, in our case would be the most correlated books that we can push up for the recommender.\n",
    "\n",
    "Still based off our book A, Wifey, we first merge all the users who rated that book with all the books. Then we can pivot the dataframe, and have the BookTitle as the index(the very first column), and each individual userID as the column, with the entries as the user's ratings for the book in the row. After we use spcipy's sparse matrix to store all the ratings in that format.\n",
    "\n",
    "Then we use the NearestNeighbors library from sklearn. We choose cosine as the metric for measuring the distance, and fit our model around the matrix we just build."
   ]
  },
  {
   "cell_type": "code",
   "execution_count": 738,
   "metadata": {},
   "outputs": [
    {
     "data": {
      "text/plain": [
       "NearestNeighbors(algorithm='brute', leaf_size=30, metric='cosine',\n",
       "         metric_params=None, n_jobs=1, n_neighbors=5, p=2, radius=1.0)"
      ]
     },
     "execution_count": 738,
     "metadata": {},
     "output_type": "execute_result"
    }
   ],
   "source": [
    "A_user_books = rated_contro_all.merge(books, on='ISBN', how='outer')\n",
    "A_user_rating_pivot = A_user_rating.pivot(index = 'BookTitle', columns = 'userID', values ='BookRating').fillna(0)\n",
    "A_user_rating_matrix = scipy.sparse.csr_matrix(A_user_rating_pivot.values)\n",
    "\n",
    "model_knn = NearestNeighbors(metric = 'cosine', algorithm = 'brute')\n",
    "model_knn.fit(A_user_rating_matrix)"
   ]
  },
  {
   "cell_type": "markdown",
   "metadata": {},
   "source": [
    "Now we can build our recommender! \n",
    "\n",
    "We will write a function called book_recommend, which takes a  book index and number of neighbors. I will only show the recommendation result for the Wifey book, but you can feed in any book index you want, and I will use 6 closest neighbors for the top five recommendatons. "
   ]
  },
  {
   "cell_type": "code",
   "execution_count": 802,
   "metadata": {},
   "outputs": [
    {
     "name": "stdout",
     "output_type": "stream",
     "text": [
      "\t People like Wifey may also like:\n",
      "\t    Summer Sisters    dist= 0.618288600413\n",
      "\t    Smart Women    dist= 0.619429640648\n",
      "\t    Accident    dist= 0.642762820169\n",
      "\t    Wanderlust    dist= 0.659682101458\n",
      "\t    If There Be Thorns (Dollanganger)    dist= 0.66039221976\n"
     ]
    }
   ],
   "source": [
    "A_index = int(np.where(A_user_rating_pivot.index == \"Wifey\")[0])\n",
    "\n",
    "def book_recommend(A_index, neighbor):\n",
    "    res = []\n",
    "    distances, indices = model_knn.kneighbors(A_user_rating_pivot.iloc[A_index, :].values.reshape(1, -1), n_neighbors = neighbor)\n",
    "    for i in range(0, len(distances.flatten())):\n",
    "        if i == 0:\n",
    "            res.append(A_user_rating_pivot.index[A_index])\n",
    "        else:\n",
    "            res.append((A_user_rating_pivot.index[indices.flatten()[i]], distances.flatten()[i]))\n",
    "    return res\n",
    "\n",
    "res = book_recommend(A_index, 6)\n",
    "print('\\t People like ' + res[0] + ' may also like:')\n",
    "for k in range(1, 6):\n",
    "    print('\\t   ', res[k][0], '   dist=', res[k][1])"
   ]
  },
  {
   "cell_type": "markdown",
   "metadata": {},
   "source": [
    "We can see the top recommendation is actually the two books by the same author that we saw in the previous top corated list - that make sense and very promising! I cannot comment much about the rest, but the genre looks similar, and we do notice that the distance between the later three canadaties isn't that big of a gap. Very fond of seeing it working though, also tested on some other books and the result seems pretty reasonable."
   ]
  },
  {
   "cell_type": "markdown",
   "metadata": {},
   "source": [
    "$^{[1]}$ Acknowledgement for using the dataset: \n",
    "\n",
    "    Improving Recommendation Lists Through Topic Diversification,\n",
    "    Cai-Nicolas Ziegler, Sean M. McNee, Joseph A. Konstan, Georg Lausen; Proceedings of the 14th International World Wide Web Conference (WWW '05), May 10-14, 2005, Chiba, Japan. \n"
   ]
  }
 ],
 "metadata": {
  "kernelspec": {
   "display_name": "Python 3",
   "language": "python",
   "name": "python3"
  },
  "language_info": {
   "codemirror_mode": {
    "name": "ipython",
    "version": 3
   },
   "file_extension": ".py",
   "mimetype": "text/x-python",
   "name": "python",
   "nbconvert_exporter": "python",
   "pygments_lexer": "ipython3",
   "version": "3.6.3"
  }
 },
 "nbformat": 4,
 "nbformat_minor": 2
}
